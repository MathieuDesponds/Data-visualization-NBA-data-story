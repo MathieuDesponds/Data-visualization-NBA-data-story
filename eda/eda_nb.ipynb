{
 "cells": [
  {
   "cell_type": "code",
   "execution_count": null,
   "metadata": {
    "lines_to_next_cell": 2
   },
   "outputs": [],
   "source": [
    "import pandas as pd\n",
    "import seaborn as sns\n",
    "import plotly.express as px\n",
    "import matplotlib.pyplot as plt"
   ]
  },
  {
   "cell_type": "markdown",
   "metadata": {
    "lines_to_next_cell": 2
   },
   "source": [
    "# The DataFrames"
   ]
  },
  {
   "cell_type": "code",
   "execution_count": null,
   "metadata": {},
   "outputs": [],
   "source": [
    "import os\n",
    "\n",
    "print(os.listdir(\"../data\"))\n",
    "PATH = \"../data/{}.csv\""
   ]
  },
  {
   "cell_type": "code",
   "execution_count": null,
   "metadata": {},
   "outputs": [],
   "source": [
    "games = pd.read_csv(PATH.format(\"games\"))\n",
    "details = pd.read_csv(PATH.format(\"games_details\"))\n",
    "players = pd.read_csv(PATH.format(\"players\"))\n",
    "ranking = pd.read_csv(PATH.format(\"ranking\"))\n",
    "teams = pd.read_csv(PATH.format(\"teams\"))"
   ]
  },
  {
   "cell_type": "code",
   "execution_count": null,
   "metadata": {
    "lines_to_next_cell": 1
   },
   "outputs": [],
   "source": [
    "dfs = [[games, \"games\"], [details, \"details\"], [players, \"players\"], [ranking, \"ranking\"], [teams, \"teams\"]]"
   ]
  },
  {
   "cell_type": "code",
   "execution_count": null,
   "metadata": {
    "lines_to_next_cell": 1
   },
   "outputs": [],
   "source": [
    "def show(df, name):\n",
    "    print(f\"> DataFrame {name} : \")\n",
    "    display(df.head(5))"
   ]
  },
  {
   "cell_type": "code",
   "execution_count": null,
   "metadata": {},
   "outputs": [],
   "source": [
    "[show(df, name) for df, name in dfs];"
   ]
  },
  {
   "cell_type": "markdown",
   "metadata": {},
   "source": [
    "### 1 - Games"
   ]
  },
  {
   "cell_type": "code",
   "execution_count": null,
   "metadata": {},
   "outputs": [],
   "source": [
    "## quick look at the different columns\n",
    "display(games.columns)\n",
    "\n",
    "## we set them in lower case because caps lock is lame\n",
    "games.columns = [name.lower() for name in games.columns]"
   ]
  },
  {
   "cell_type": "code",
   "execution_count": null,
   "metadata": {},
   "outputs": [],
   "source": [
    "## let's use datetime\n",
    "games[\"date\"] = pd.to_datetime(games.game_date_est)"
   ]
  },
  {
   "cell_type": "code",
   "execution_count": null,
   "metadata": {},
   "outputs": [],
   "source": [
    "## GAME_STATUS_TEXT can be droped\n",
    "f = plt.figure(figsize=(15, 6))\n",
    "games[\"SEASON\"] = games.season.astype(str)\n",
    "g = sns.histplot(data=games, x=\"SEASON\", palette=\"viridis\")\n",
    "g.set_title(\"distribution of the number of game per seasons\")\n",
    "g.set_ylabel(\"number of games\")\n",
    "g.set_xlabel(\"season\")"
   ]
  },
  {
   "cell_type": "code",
   "execution_count": null,
   "metadata": {},
   "outputs": [],
   "source": [
    "g = sns.countplot(data=games, x=\"home_team_wins\")\n",
    "g.set_title(\"distribution of games won by hosting team\")\n",
    "g.set_xlabel(\"host team won\")\n",
    "g.set_ylabel(\"number of games\");"
   ]
  },
  {
   "cell_type": "code",
   "execution_count": null,
   "metadata": {},
   "outputs": [],
   "source": [
    "## for home team\n",
    "f, a = plt.subplots(figsize=(15, 6))\n",
    "sns.histplot(data=games, x=\"pts_away\", color=\"blue\", label=\"visitor team\", kde=True)\n",
    "sns.histplot(data=games, x=\"pts_home\", color=\"red\", label=\"home team\", kde=True)\n",
    "plt.legend()\n",
    "a.set_title(\"distribution of the number of points scored in a game\")\n",
    "a.set_ylabel(\"number of game\")\n",
    "a.set_xlabel(\"number of points\");"
   ]
  },
  {
   "cell_type": "markdown",
   "metadata": {},
   "source": [
    "We can hypothesize right away that there is a significant difference in the number of points scored when **hosting** or visiting a game. Let's assess this with a **t test**:"
   ]
  },
  {
   "cell_type": "code",
   "execution_count": null,
   "metadata": {},
   "outputs": [],
   "source": [
    "from scipy import stats\n",
    "\n",
    "stats.ttest_ind(games.pts_away.dropna(), games.pts_home.dropna())"
   ]
  },
  {
   "cell_type": "markdown",
   "metadata": {},
   "source": [
    "The p-value is $< 0.01$ so we can reject the null-hypothesis saying that these means are the same with a confidence of $99\\%$.\n",
    "\n",
    "\n",
    "Here we assess the precision in the 3 points shoots between visitors and host teams :"
   ]
  },
  {
   "cell_type": "code",
   "execution_count": null,
   "metadata": {},
   "outputs": [],
   "source": [
    "## 3 pts percentage\n",
    "\n",
    "f = plt.figure(figsize=(15, 6))\n",
    "sns.histplot(data=games, x=\"fg3_pct_away\", color=\"blue\", label=\"visitor team\", kde=True)\n",
    "sns.histplot(data=games, x=\"fg3_pct_home\", color=\"red\", label=\"home team\", kde=True)\n",
    "plt.legend()"
   ]
  },
  {
   "cell_type": "markdown",
   "metadata": {},
   "source": [
    "Here, the same for 2 points shots"
   ]
  },
  {
   "cell_type": "code",
   "execution_count": null,
   "metadata": {},
   "outputs": [],
   "source": [
    "## 2 pts percentage\n",
    "\n",
    "f = plt.figure(figsize=(15, 6))\n",
    "sns.histplot(data=games, x=\"fg_pct_away\", color=\"blue\", label=\"visitor team\", kde=True)\n",
    "sns.histplot(data=games, x=\"fg_pct_home\", color=\"red\", label=\"home team\", kde=True)\n",
    "plt.legend()"
   ]
  },
  {
   "cell_type": "markdown",
   "metadata": {},
   "source": [
    "The precision is more different for normal shoots than for 3 points shoots.\n",
    "\n",
    "The dataset's feature `HOME_TEAM_WINS` is not very praticle if we need to compute it multiple times so we precompute the `winner_id`."
   ]
  },
  {
   "cell_type": "code",
   "execution_count": null,
   "metadata": {},
   "outputs": [],
   "source": [
    "def finds_winner(entry):\n",
    "    if(entry[\"home_team_wins\"]):\n",
    "        return entry[\"home_team_id\"]\n",
    "    else :\n",
    "        return entry[\"visitor_team_id\"]\n",
    "\n",
    "games[\"winner_id\"] = games.apply(finds_winner, axis=1)"
   ]
  },
  {
   "cell_type": "code",
   "execution_count": null,
   "metadata": {},
   "outputs": [],
   "source": [
    "## little check that it worked as intended\n",
    "games[[\"home_team_id\", \"visitor_team_id\", \"home_team_wins\", \"winner_id\"]].head()"
   ]
  },
  {
   "cell_type": "code",
   "execution_count": null,
   "metadata": {},
   "outputs": [],
   "source": [
    "## unecessary features\n",
    "games = games.drop([\"team_id_home\", \"game_status_text\", \"game_date_est\"], axis=1)"
   ]
  },
  {
   "cell_type": "markdown",
   "metadata": {},
   "source": [
    "While we are preprocessing we are going to invistigate the `NaN` entries :"
   ]
  },
  {
   "cell_type": "code",
   "execution_count": null,
   "metadata": {},
   "outputs": [],
   "source": [
    "## entries with at least one NaN value\n",
    "games[games.isna().sum(axis=1) != 0]"
   ]
  },
  {
   "cell_type": "markdown",
   "metadata": {},
   "source": [
    "These are the match that may have been won on \"default wins\". We decide to get rid of them."
   ]
  },
  {
   "cell_type": "code",
   "execution_count": null,
   "metadata": {},
   "outputs": [],
   "source": [
    "games = games.dropna(how=\"any\")"
   ]
  },
  {
   "cell_type": "markdown",
   "metadata": {},
   "source": [
    "We will study the relation between different features :"
   ]
  },
  {
   "cell_type": "code",
   "execution_count": null,
   "metadata": {},
   "outputs": [],
   "source": [
    "uninteresting_cols = [\"home_team_id\", \"visitor_team_id\", \"season\", \"winner_id\", \"game_id\", \"date\"]\n",
    "sns.pairplot(data=games.drop(uninteresting_cols, axis=1), corner=True)"
   ]
  },
  {
   "cell_type": "markdown",
   "metadata": {},
   "source": [
    "**TODO** : write a few insights we get"
   ]
  },
  {
   "cell_type": "markdown",
   "metadata": {},
   "source": [
    "We store the cleaned dataset in the `data/preprocessed` directory."
   ]
  },
  {
   "cell_type": "code",
   "execution_count": null,
   "metadata": {},
   "outputs": [],
   "source": [
    "games.to_csv(\"../data/preprocessed/games.csv\")"
   ]
  },
  {
   "cell_type": "markdown",
   "metadata": {},
   "source": [
    "### 2 - Details"
   ]
  },
  {
   "cell_type": "code",
   "execution_count": null,
   "metadata": {},
   "outputs": [],
   "source": [
    "details.columns = [name.lower() for name in details.columns]\n",
    "details"
   ]
  },
  {
   "cell_type": "code",
   "execution_count": null,
   "metadata": {},
   "outputs": [],
   "source": [
    "details.describe()"
   ]
  },
  {
   "cell_type": "code",
   "execution_count": null,
   "metadata": {},
   "outputs": [],
   "source": [
    "## obvious stat : the players have a lower precision on 3 points shoots than in the others\n",
    "\n",
    "f, a = plt.subplots(figsize=(10, 4))\n",
    "sns.histplot(details.groupby(\"player_id\").mean(), x=\"fg3_pct\", color=\"red\", label=\"3 pts shoots\", kde=True)\n",
    "sns.histplot(details.groupby(\"player_id\").mean(), x=\"fg_pct\", label=\"shoots\", kde=True)\n",
    "a.set_title(\"precision percentage of shoots per player\")\n",
    "a.set_ylabel(\"number of players\")\n",
    "a.set_xlabel(\"precisions ration\")\n",
    "plt.legend();"
   ]
  },
  {
   "cell_type": "code",
   "execution_count": null,
   "metadata": {},
   "outputs": [],
   "source": [
    "details[\"min\"] = details[\"min\"].astype(str).apply(lambda x : float(x.split(\":\")[0]))\n",
    "g = sns.histplot(data=details, x=\"min\", binwidth=3)\n",
    "g.set_title(\"distribution of the number of \")\n",
    "g.set_xlabel(\"minutes played\")\n",
    "g.set_ylabel(\"number of players\");"
   ]
  },
  {
   "cell_type": "code",
   "execution_count": null,
   "metadata": {},
   "outputs": [],
   "source": [
    "## TODO : explain the investigation\n",
    "details = details.drop(details[details[\"min\"] == 96.0].index[0])"
   ]
  },
  {
   "cell_type": "code",
   "execution_count": null,
   "metadata": {},
   "outputs": [],
   "source": [
    "details.to_csv(\"../data/preprocessed/details.csv\")"
   ]
  },
  {
   "cell_type": "markdown",
   "metadata": {},
   "source": [
    "### 3 - Rankings"
   ]
  },
  {
   "cell_type": "code",
   "execution_count": null,
   "metadata": {},
   "outputs": [],
   "source": [
    "ranking.columns = [name.lower() for name in ranking.columns]\n",
    "ranking[\"standingsdate\"] = pd.to_datetime(ranking.standingsdate)\n",
    "\n",
    "## useless cols\n",
    "ranking = ranking.drop([\"league_id\", \"returntoplay\"], axis=1)\n",
    "ranking"
   ]
  },
  {
   "cell_type": "code",
   "execution_count": null,
   "metadata": {},
   "outputs": [],
   "source": [
    "g = sns.countplot(data=ranking[ranking.standingsdate == \"2020-12-21\"], x=\"conference\")\n",
    "g.set_title(\"\")"
   ]
  },
  {
   "cell_type": "code",
   "execution_count": null,
   "metadata": {},
   "outputs": [],
   "source": [
    "f, a = plt.subplots(figsize=(16, 4))\n",
    "plt.plot(ranking.groupby(\"standingsdate\").count().team_id)"
   ]
  },
  {
   "cell_type": "code",
   "execution_count": null,
   "metadata": {},
   "outputs": [],
   "source": [
    "lebron_at_cleveland_years = list(range(2003, 2011)) + list(range(2014, 2019))\n",
    "wins_cleveland = ranking[ranking.team == \"Cleveland\"][[\"standingsdate\", \"w\"]].drop_duplicates()\n",
    "wins_cleveland[\"Lebron_was_here\"] = wins_cleveland.standingsdate.apply(lambda date : date.year in lebron_at_cleveland_years)\n",
    "wins_cleveland = wins_cleveland.drop_duplicates().sort_values(\"standingsdate\", ascending=True)\n",
    "px.line(wins_cleveland, x=\"standingsdate\", y=\"w\", color=\"Lebron_was_here\", labels={\"w\" : \"wins for Cleveland\", \"standingsdate\" : \"date in the season\", \"Lebron_was_here\" : \"was Lebron playing at Cleveland ?\"}, title=\"Impact of Lebron on Cleveland wins during a season\")"
   ]
  },
  {
   "cell_type": "markdown",
   "metadata": {},
   "source": [
    "We have one ranking per day. We need to order the team for each of them to extrac the real ranking for each of them."
   ]
  },
  {
   "cell_type": "code",
   "execution_count": null,
   "metadata": {},
   "outputs": [],
   "source": [
    "sub = ranking[ranking.standingsdate == \"2022-03-12\"]"
   ]
  },
  {
   "cell_type": "code",
   "execution_count": null,
   "metadata": {},
   "outputs": [],
   "source": [
    "sub_sorted = sub.sort_values(\"w\", ascending=False).reset_index()\n",
    "sub_sorted[\"rank\"] = sub_sorted.index + 1\n",
    "sub_sorted = sub_sorted.set_index(\"index\")"
   ]
  },
  {
   "cell_type": "code",
   "execution_count": null,
   "metadata": {},
   "outputs": [],
   "source": [
    "sub_sorted"
   ]
  },
  {
   "cell_type": "code",
   "execution_count": null,
   "metadata": {},
   "outputs": [],
   "source": [
    "def find_ranking(daily_scores):\n",
    "    sub_sorted = daily_scores.sort_values(\"w\", ascending=False).reset_index()\n",
    "    sub_sorted[\"rank\"] = sub_sorted.index + 1\n",
    "    sub_sorted = sub_sorted.set_index(\"index\")\n",
    "    return sub_sorted\n",
    "    \n",
    "\n",
    "ranking = ranking.groupby(\"standingsdate\").apply(lambda subdf : find_ranking(subdf))"
   ]
  },
  {
   "cell_type": "code",
   "execution_count": null,
   "metadata": {},
   "outputs": [],
   "source": [
    "ranking.to_csv(\"../data/preprocessed/rankings.csv\")"
   ]
  },
  {
   "cell_type": "markdown",
   "metadata": {},
   "source": [
    "### 4 - Teams"
   ]
  },
  {
   "cell_type": "code",
   "execution_count": null,
   "metadata": {},
   "outputs": [],
   "source": [
    "teams"
   ]
  },
  {
   "cell_type": "code",
   "execution_count": null,
   "metadata": {},
   "outputs": [],
   "source": [
    "## do smthg\n",
    "display(teams[teams.TEAM_ID == 1610612744])\n",
    "display(teams[teams.TEAM_ID == 1610612757])"
   ]
  },
  {
   "cell_type": "code",
   "execution_count": null,
   "metadata": {},
   "outputs": [],
   "source": [
    "sns.histplot(data=teams, x=\"YEARFOUNDED\", binwidth=2)"
   ]
  },
  {
   "cell_type": "markdown",
   "metadata": {},
   "source": [
    "### 5 - Players\n",
    "\n",
    "\n",
    "This dataset doesn't contain any new info so we won't use it."
   ]
  },
  {
   "cell_type": "code",
   "execution_count": null,
   "metadata": {},
   "outputs": [],
   "source": [
    "players"
   ]
  },
  {
   "cell_type": "markdown",
   "metadata": {},
   "source": [
    "# Lebron Jenkins, out"
   ]
  }
 ],
 "metadata": {
  "jupytext": {
   "cell_metadata_filter": "-all",
   "notebook_metadata_filter": "-all",
   "text_representation": {
    "extension": ".py",
    "format_name": "light"
   }
  },
  "kernelspec": {
   "display_name": "bdata",
   "language": "python",
   "name": "bdata"
  }
 },
 "nbformat": 4,
 "nbformat_minor": 4
}
