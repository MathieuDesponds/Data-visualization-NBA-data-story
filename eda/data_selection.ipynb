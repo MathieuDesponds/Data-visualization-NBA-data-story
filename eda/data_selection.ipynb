{
 "cells": [
  {
   "cell_type": "code",
   "execution_count": 1,
   "metadata": {},
   "outputs": [
    {
     "name": "stdout",
     "output_type": "stream",
     "text": [
      "['.gitattributes', 'games.csv', 'games_details.csv', 'map', 'players.csv', 'preprocessed', 'ranking.csv', 'teams.csv']\n"
     ]
    },
    {
     "name": "stderr",
     "output_type": "stream",
     "text": [
      "C:\\Users\\mathi\\anaconda3\\lib\\site-packages\\IPython\\core\\interactiveshell.py:3444: DtypeWarning: Columns (7) have mixed types.Specify dtype option on import or set low_memory=False.\n",
      "  exec(code_obj, self.user_global_ns, self.user_ns)\n"
     ]
    }
   ],
   "source": [
    "import pandas as pd\n",
    "import seaborn as sns\n",
    "import plotly.express as px\n",
    "import matplotlib.pyplot as plt\n",
    "import os\n",
    "\n",
    "print(os.listdir(\"../data\"))\n",
    "PREC_PATH = \"../data/preprocessed/{}.csv\"\n",
    "PATH = \"../data/{}.csv\"\n",
    "\n",
    "games = pd.read_csv(PREC_PATH.format(\"games\"))\n",
    "details = pd.read_csv(PREC_PATH.format(\"details\"))\n",
    "players = pd.read_csv(PATH.format(\"players\"))\n",
    "ranking = pd.read_csv(PREC_PATH.format(\"rankings\"))\n",
    "teams = pd.read_csv(PATH.format(\"teams\"))"
   ]
  },
  {
   "cell_type": "code",
   "execution_count": 13,
   "metadata": {},
   "outputs": [
    {
     "name": "stderr",
     "output_type": "stream",
     "text": [
      "C:\\Users\\antom\\miniconda3\\lib\\site-packages\\pandas\\core\\reshape\\merge.py:1204: UserWarning: You are merging on int and float columns where the float values are not equal to their int representation\n",
      "  warnings.warn(\n"
     ]
    }
   ],
   "source": [
    "player_selection = details.groupby(\"player_name\").mean()[[\"player_id\", \"pts\"]].reset_index()\\\n",
    "    .merge(players, right_on=\"PLAYER_ID\", left_on=\"player_id\")\\\n",
    "    .sort_values(\"pts\", ascending=False)\\\n",
    "    .drop_duplicates(\"player_name\")\\\n",
    "    .head(100)\\\n",
    "    .merge(teams[[\"TEAM_ID\", \"ABBREVIATION\"]], on=\"TEAM_ID\")\\\n",
    "    [[\"player_name\", \"player_id\", \"pts\"]]\n"
   ]
  },
  {
   "cell_type": "code",
   "execution_count": 16,
   "metadata": {},
   "outputs": [],
   "source": [
    "player_selection.to_csv(\"../website/data/player_selection.csv\")"
   ]
  },
  {
   "cell_type": "code",
   "execution_count": 15,
   "metadata": {},
   "outputs": [
    {
     "data": {
      "text/plain": [
       "['.idea',\n",
       " 'datavis-project-2022-lebron-jenkins',\n",
       " 'dataviz-exercise-02',\n",
       " 'dataviz-exercise-03',\n",
       " 'DataVizExercise01',\n",
       " 'idea.txt',\n",
       " 'intro.html']"
      ]
     },
     "execution_count": 15,
     "metadata": {},
     "output_type": "execute_result"
    }
   ],
   "source": [
    "os.listdir(\"../..\")"
   ]
  },
  {
   "cell_type": "markdown",
   "metadata": {},
   "source": [
    "# Teams\n",
    "\n",
    "Take the teamId the name and the abreviation"
   ]
  },
  {
   "cell_type": "code",
   "execution_count": 2,
   "metadata": {},
   "outputs": [],
   "source": [
    "coordinates = [(1610612737, 33.75725092895011, -84.39619973311765),\n",
    " (1610612738, 42.36610686544133, -71.06264504509178),\n",
    " (1610612740, 29.950485009327856, -90.08072646871527),\n",
    " (1610612741, 41.881968536545465, -87.6728455633052),\n",
    " (1610612742, 32.789894151360954, -96.8092592302266),\n",
    " (1610612743, 39.74958004618605, -105.00661578713809),\n",
    " (1610612745,29.750871888172558, -95.36167139097245 ),\n",
    " (1610612746, 34.04276826661928, -118.26669624321944),\n",
    " (1610612747, 34.04276826661928, -118.26669624321944),\n",
    " (1610612748, 25.7808987709237, -80.18623948495552),\n",
    " (1610612749, 43.045205319315365, -87.91665667747223),\n",
    " (1610612750, 44.979584391924476, -93.27553683777344),\n",
    " (1610612751, 40.682646169430356, -73.9755443855573),\n",
    " (1610612752, 40.75053668021922, -73.99313833210212),\n",
    " (1610612753, 28.539371922106323, -81.38441144428242),\n",
    " (1610612754, 39.76381215213423, -86.15605172410166),\n",
    " (1610612755, 39.90123409349528, -75.17090665637734),\n",
    " (1610612756, 33.44605897210844, -112.07107159689456),\n",
    " (1610612757, 45.53140421236139, -122.66711521703822),\n",
    " (1610612758, 38.58017062553036, -121.50008939400314),\n",
    " (1610612759, 29.427019813868597, -98.43815188998576),\n",
    " (1610612760, 35.463704015112775, -97.51550008012),\n",
    " (1610612761, 43.643465766008646, -79.37961392206583),\n",
    " (1610612762, 40.76774773159542, -111.90147367756563),\n",
    " (1610612763, 35.13775544220234, -90.05110142629135),\n",
    " (1610612764, 38.8980001758342, -77.0211572478214),\n",
    " (1610612765, 42.34072161638615, -83.0549240159282),\n",
    " (1610612766, 35.22455561049105, -80.83926239612208),\n",
    " (1610612739, 41.49641849438575, -81.68857242321435),\n",
    " (1610612744, 37.76801468162943, -122.38730084231904)]\n",
    "\n",
    "df_coord = pd.DataFrame(coordinates,columns =['TEAM_ID', 'LATITUDE', 'LONGITUDE'])"
   ]
  },
  {
   "cell_type": "code",
   "execution_count": 3,
   "metadata": {},
   "outputs": [],
   "source": [
    "teams_summary = teams[['TEAM_ID','ABBREVIATION', 'NICKNAME']].merge(df_coord, right_on=\"TEAM_ID\", left_on=\"TEAM_ID\")\n",
    "teams_summary.to_csv(\"../data_web/teams_summary.csv\")"
   ]
  },
  {
   "cell_type": "markdown",
   "metadata": {},
   "source": [
    "# Games"
   ]
  },
  {
   "cell_type": "markdown",
   "metadata": {},
   "source": [
    "## Get the season of one team with all its matches"
   ]
  },
  {
   "cell_type": "code",
   "execution_count": 4,
   "metadata": {},
   "outputs": [],
   "source": [
    "import numpy as np\n",
    "def get_games_summary_for_all_teams():\n",
    "    games_summary = games[[\"home_team_id\", \"visitor_team_id\", \"home_team_wins\", \"season\", \"date\", \"pts_home\", \"pts_away\"]]\n",
    "    games_home_teams_summary = games_summary.copy(deep=True)\n",
    "    games_home_teams_summary.rename(columns = {'home_team_id':'team', 'visitor_team_id':'adversary', 'home_team_wins':'team_wins'}, inplace = True)\n",
    "    games_home_teams_summary[\"home\"] = 1\n",
    "    games_home_teams_summary = games_home_teams_summary[['team','adversary','home','team_wins','season','date','pts_home','pts_away']]\n",
    "\n",
    "    games_away_teams_summary = games_summary.copy(deep=True)\n",
    "    games_away_teams_summary.rename(columns = {'home_team_id':'adversary', 'visitor_team_id':'team', 'home_team_wins':'team_wins'}, inplace = True)\n",
    "    games_away_teams_summary['team_wins'] = np.where(games_away_teams_summary['team_wins']==1, 0, 1)\n",
    "    games_away_teams_summary[\"home\"] = 0\n",
    "    games_away_teams_summary = games_away_teams_summary[['team','adversary','home','team_wins','season','date','pts_home','pts_away']]\n",
    "\n",
    "    return pd.concat([games_home_teams_summary,games_away_teams_summary])\n",
    "\n",
    "def get_season(season, team_id):\n",
    "    return games_summary.loc[(games_summary[\"team\"] == team_id) & (games_summary[\"season\"] == season)].sort_values(by=[\"date\"])\n",
    "\n",
    "games_summary = get_games_summary_for_all_teams()\n",
    "sea = get_season(2003, 1610612748).copy(deep=True)"
   ]
  },
  {
   "cell_type": "code",
   "execution_count": 69,
   "metadata": {},
   "outputs": [],
   "source": [
    "import math\n",
    "R = 6373.0\n",
    "\n",
    "def get_coord_from_id(id):\n",
    "    row = teams_summary[teams_summary[\"TEAM_ID\"] == id]\n",
    "    return [row[\"LATITUDE\"],row[\"LONGITUDE\"]]\n",
    "\n",
    "def distance(coord1, coord2):\n",
    "    lat1, lat2 = math.radians(coord1[0]), math.radians(coord2[0])\n",
    "    dlon = math.radians(coord2[1]) - math.radians(coord1[1])\n",
    "    dlat = lat2-lat1\n",
    "    a = math.sin(dlat / 2)**2 + math.cos(lat1) * math.cos(lat2) * math.sin(dlon / 2)**2\n",
    "    c = 2 * math.atan2(math.sqrt(a), math.sqrt(1 - a))\n",
    "    \n",
    "    return R * c\n",
    "def get_dist_for_match(entry):\n",
    "    if entry[\"team\"] == entry[\"team_\"] and entry[\"season\"] == entry[\"season_\"] :\n",
    "        last_coords = get_coord_from_id(entry[\"team\"] if entry[\"home\"] else entry[\"adversary\"])\n",
    "        new_coords = get_coord_from_id(entry[\"team\"] if entry[\"home_\"] else entry[\"adversary_\"])\n",
    "        return distance(last_coords,new_coords)\n",
    "    else :\n",
    "        return 0\n",
    "\n",
    "\n",
    "games_summary_sorted = games_summary.sort_values(by=[\"team\", \"season\", \"date\"])\n",
    "\n",
    "x = games_summary_sorted.iloc[1:].reset_index()[[\"team\", \"adversary\", \"home\", \"season\",\"date\"]]\n",
    "x.columns = [ c + \"_\" for c in x.columns]\n",
    "concated_games_summary = pd.concat([games_summary_sorted.reset_index(),x], axis=1)\n",
    "concated_games_summary[\"dist_for_this_match\"] = concated_games_summary.apply(get_dist_for_match,axis =1)\n",
    "concated_games_summary = concated_games_summary.drop([\"team_\", \"adversary_\", \"home_\", \"season_\", \"date_\"], axis=1)\n",
    "concated_games_summary[\"game_loc_lat\"] = concated_games_summary.apply(lambda entry : float(get_coord_from_id(entry[\"team\"] if entry[\"home\"] else entry[\"adversary\"])[0]),axis =1)\n",
    "concated_games_summary[\"game_loc_long\"] = concated_games_summary.apply(lambda entry : float(get_coord_from_id(entry[\"team\"] if entry[\"home\"] else entry[\"adversary\"])[1]),axis =1)\n",
    "concated_games_summary.to_csv(\"../data_web/seasons.csv\")"
   ]
  },
  {
   "cell_type": "code",
   "execution_count": 68,
   "metadata": {},
   "outputs": [
    {
     "ename": "KeyError",
     "evalue": "'dist_for_this_match'",
     "output_type": "error",
     "traceback": [
      "\u001b[1;31m---------------------------------------------------------------------------\u001b[0m",
      "\u001b[1;31mKeyError\u001b[0m                                  Traceback (most recent call last)",
      "\u001b[1;32m~\\anaconda3\\lib\\site-packages\\pandas\\core\\indexes\\base.py\u001b[0m in \u001b[0;36mget_loc\u001b[1;34m(self, key, method, tolerance)\u001b[0m\n\u001b[0;32m   3360\u001b[0m             \u001b[1;32mtry\u001b[0m\u001b[1;33m:\u001b[0m\u001b[1;33m\u001b[0m\u001b[1;33m\u001b[0m\u001b[0m\n\u001b[1;32m-> 3361\u001b[1;33m                 \u001b[1;32mreturn\u001b[0m \u001b[0mself\u001b[0m\u001b[1;33m.\u001b[0m\u001b[0m_engine\u001b[0m\u001b[1;33m.\u001b[0m\u001b[0mget_loc\u001b[0m\u001b[1;33m(\u001b[0m\u001b[0mcasted_key\u001b[0m\u001b[1;33m)\u001b[0m\u001b[1;33m\u001b[0m\u001b[1;33m\u001b[0m\u001b[0m\n\u001b[0m\u001b[0;32m   3362\u001b[0m             \u001b[1;32mexcept\u001b[0m \u001b[0mKeyError\u001b[0m \u001b[1;32mas\u001b[0m \u001b[0merr\u001b[0m\u001b[1;33m:\u001b[0m\u001b[1;33m\u001b[0m\u001b[1;33m\u001b[0m\u001b[0m\n",
      "\u001b[1;32m~\\anaconda3\\lib\\site-packages\\pandas\\_libs\\index.pyx\u001b[0m in \u001b[0;36mpandas._libs.index.IndexEngine.get_loc\u001b[1;34m()\u001b[0m\n",
      "\u001b[1;32m~\\anaconda3\\lib\\site-packages\\pandas\\_libs\\index.pyx\u001b[0m in \u001b[0;36mpandas._libs.index.IndexEngine.get_loc\u001b[1;34m()\u001b[0m\n",
      "\u001b[1;32mpandas\\_libs\\hashtable_class_helper.pxi\u001b[0m in \u001b[0;36mpandas._libs.hashtable.PyObjectHashTable.get_item\u001b[1;34m()\u001b[0m\n",
      "\u001b[1;32mpandas\\_libs\\hashtable_class_helper.pxi\u001b[0m in \u001b[0;36mpandas._libs.hashtable.PyObjectHashTable.get_item\u001b[1;34m()\u001b[0m\n",
      "\u001b[1;31mKeyError\u001b[0m: 'dist_for_this_match'",
      "\nThe above exception was the direct cause of the following exception:\n",
      "\u001b[1;31mKeyError\u001b[0m                                  Traceback (most recent call last)",
      "\u001b[1;32m~\\AppData\\Local\\Temp/ipykernel_52780/1698462958.py\u001b[0m in \u001b[0;36m<module>\u001b[1;34m\u001b[0m\n\u001b[1;32m----> 1\u001b[1;33m \u001b[0mconcated_games_summary\u001b[0m\u001b[1;33m[\u001b[0m\u001b[1;34m\"dist_for_this_match\"\u001b[0m\u001b[1;33m]\u001b[0m\u001b[1;33m.\u001b[0m\u001b[0mhead\u001b[0m\u001b[1;33m(\u001b[0m\u001b[1;36m10\u001b[0m\u001b[1;33m)\u001b[0m\u001b[1;33m\u001b[0m\u001b[1;33m\u001b[0m\u001b[0m\n\u001b[0m",
      "\u001b[1;32m~\\anaconda3\\lib\\site-packages\\pandas\\core\\frame.py\u001b[0m in \u001b[0;36m__getitem__\u001b[1;34m(self, key)\u001b[0m\n\u001b[0;32m   3456\u001b[0m             \u001b[1;32mif\u001b[0m \u001b[0mself\u001b[0m\u001b[1;33m.\u001b[0m\u001b[0mcolumns\u001b[0m\u001b[1;33m.\u001b[0m\u001b[0mnlevels\u001b[0m \u001b[1;33m>\u001b[0m \u001b[1;36m1\u001b[0m\u001b[1;33m:\u001b[0m\u001b[1;33m\u001b[0m\u001b[1;33m\u001b[0m\u001b[0m\n\u001b[0;32m   3457\u001b[0m                 \u001b[1;32mreturn\u001b[0m \u001b[0mself\u001b[0m\u001b[1;33m.\u001b[0m\u001b[0m_getitem_multilevel\u001b[0m\u001b[1;33m(\u001b[0m\u001b[0mkey\u001b[0m\u001b[1;33m)\u001b[0m\u001b[1;33m\u001b[0m\u001b[1;33m\u001b[0m\u001b[0m\n\u001b[1;32m-> 3458\u001b[1;33m             \u001b[0mindexer\u001b[0m \u001b[1;33m=\u001b[0m \u001b[0mself\u001b[0m\u001b[1;33m.\u001b[0m\u001b[0mcolumns\u001b[0m\u001b[1;33m.\u001b[0m\u001b[0mget_loc\u001b[0m\u001b[1;33m(\u001b[0m\u001b[0mkey\u001b[0m\u001b[1;33m)\u001b[0m\u001b[1;33m\u001b[0m\u001b[1;33m\u001b[0m\u001b[0m\n\u001b[0m\u001b[0;32m   3459\u001b[0m             \u001b[1;32mif\u001b[0m \u001b[0mis_integer\u001b[0m\u001b[1;33m(\u001b[0m\u001b[0mindexer\u001b[0m\u001b[1;33m)\u001b[0m\u001b[1;33m:\u001b[0m\u001b[1;33m\u001b[0m\u001b[1;33m\u001b[0m\u001b[0m\n\u001b[0;32m   3460\u001b[0m                 \u001b[0mindexer\u001b[0m \u001b[1;33m=\u001b[0m \u001b[1;33m[\u001b[0m\u001b[0mindexer\u001b[0m\u001b[1;33m]\u001b[0m\u001b[1;33m\u001b[0m\u001b[1;33m\u001b[0m\u001b[0m\n",
      "\u001b[1;32m~\\anaconda3\\lib\\site-packages\\pandas\\core\\indexes\\base.py\u001b[0m in \u001b[0;36mget_loc\u001b[1;34m(self, key, method, tolerance)\u001b[0m\n\u001b[0;32m   3361\u001b[0m                 \u001b[1;32mreturn\u001b[0m \u001b[0mself\u001b[0m\u001b[1;33m.\u001b[0m\u001b[0m_engine\u001b[0m\u001b[1;33m.\u001b[0m\u001b[0mget_loc\u001b[0m\u001b[1;33m(\u001b[0m\u001b[0mcasted_key\u001b[0m\u001b[1;33m)\u001b[0m\u001b[1;33m\u001b[0m\u001b[1;33m\u001b[0m\u001b[0m\n\u001b[0;32m   3362\u001b[0m             \u001b[1;32mexcept\u001b[0m \u001b[0mKeyError\u001b[0m \u001b[1;32mas\u001b[0m \u001b[0merr\u001b[0m\u001b[1;33m:\u001b[0m\u001b[1;33m\u001b[0m\u001b[1;33m\u001b[0m\u001b[0m\n\u001b[1;32m-> 3363\u001b[1;33m                 \u001b[1;32mraise\u001b[0m \u001b[0mKeyError\u001b[0m\u001b[1;33m(\u001b[0m\u001b[0mkey\u001b[0m\u001b[1;33m)\u001b[0m \u001b[1;32mfrom\u001b[0m \u001b[0merr\u001b[0m\u001b[1;33m\u001b[0m\u001b[1;33m\u001b[0m\u001b[0m\n\u001b[0m\u001b[0;32m   3364\u001b[0m \u001b[1;33m\u001b[0m\u001b[0m\n\u001b[0;32m   3365\u001b[0m         \u001b[1;32mif\u001b[0m \u001b[0mis_scalar\u001b[0m\u001b[1;33m(\u001b[0m\u001b[0mkey\u001b[0m\u001b[1;33m)\u001b[0m \u001b[1;32mand\u001b[0m \u001b[0misna\u001b[0m\u001b[1;33m(\u001b[0m\u001b[0mkey\u001b[0m\u001b[1;33m)\u001b[0m \u001b[1;32mand\u001b[0m \u001b[1;32mnot\u001b[0m \u001b[0mself\u001b[0m\u001b[1;33m.\u001b[0m\u001b[0mhasnans\u001b[0m\u001b[1;33m:\u001b[0m\u001b[1;33m\u001b[0m\u001b[1;33m\u001b[0m\u001b[0m\n",
      "\u001b[1;31mKeyError\u001b[0m: 'dist_for_this_match'"
     ]
    }
   ],
   "source": [
    "concated_games_summary[\"dist_for_this_match\"].head(10)"
   ]
  },
  {
   "cell_type": "code",
   "execution_count": 42,
   "metadata": {},
   "outputs": [
    {
     "data": {
      "text/html": [
       "<div>\n",
       "<style scoped>\n",
       "    .dataframe tbody tr th:only-of-type {\n",
       "        vertical-align: middle;\n",
       "    }\n",
       "\n",
       "    .dataframe tbody tr th {\n",
       "        vertical-align: top;\n",
       "    }\n",
       "\n",
       "    .dataframe thead th {\n",
       "        text-align: right;\n",
       "    }\n",
       "</style>\n",
       "<table border=\"1\" class=\"dataframe\">\n",
       "  <thead>\n",
       "    <tr style=\"text-align: right;\">\n",
       "      <th></th>\n",
       "      <th>TEAM_ID</th>\n",
       "      <th>ABBREVIATION</th>\n",
       "      <th>NICKNAME</th>\n",
       "      <th>LATITUDE</th>\n",
       "      <th>LONGITUDE</th>\n",
       "    </tr>\n",
       "  </thead>\n",
       "  <tbody>\n",
       "    <tr>\n",
       "      <th>16</th>\n",
       "      <td>1610612755</td>\n",
       "      <td>PHI</td>\n",
       "      <td>76ers</td>\n",
       "      <td>39.901234</td>\n",
       "      <td>-75.170907</td>\n",
       "    </tr>\n",
       "  </tbody>\n",
       "</table>\n",
       "</div>"
      ],
      "text/plain": [
       "       TEAM_ID ABBREVIATION NICKNAME   LATITUDE  LONGITUDE\n",
       "16  1610612755          PHI    76ers  39.901234 -75.170907"
      ]
     },
     "execution_count": 42,
     "metadata": {},
     "output_type": "execute_result"
    }
   ],
   "source": [
    "teams_summary[teams_summary[\"TEAM_ID\"] == 1610612755]"
   ]
  },
  {
   "cell_type": "code",
   "execution_count": 70,
   "metadata": {},
   "outputs": [],
   "source": [
    "sea.to_csv(\"../data_web/season_heat_2003.csv\")"
   ]
  },
  {
   "cell_type": "code",
   "execution_count": 71,
   "metadata": {},
   "outputs": [
    {
     "data": {
      "text/html": [
       "<div>\n",
       "<style scoped>\n",
       "    .dataframe tbody tr th:only-of-type {\n",
       "        vertical-align: middle;\n",
       "    }\n",
       "\n",
       "    .dataframe tbody tr th {\n",
       "        vertical-align: top;\n",
       "    }\n",
       "\n",
       "    .dataframe thead th {\n",
       "        text-align: right;\n",
       "    }\n",
       "</style>\n",
       "<table border=\"1\" class=\"dataframe\">\n",
       "  <thead>\n",
       "    <tr style=\"text-align: right;\">\n",
       "      <th></th>\n",
       "      <th>team</th>\n",
       "      <th>adversary</th>\n",
       "      <th>home</th>\n",
       "      <th>team_wins</th>\n",
       "      <th>season</th>\n",
       "      <th>date</th>\n",
       "      <th>pts_home</th>\n",
       "      <th>pts_away</th>\n",
       "      <th>game_loc_lat</th>\n",
       "      <th>game_loc_long</th>\n",
       "    </tr>\n",
       "  </thead>\n",
       "  <tbody>\n",
       "    <tr>\n",
       "      <th>18330</th>\n",
       "      <td>1610612748</td>\n",
       "      <td>1610612755</td>\n",
       "      <td>1</td>\n",
       "      <td>1</td>\n",
       "      <td>2003</td>\n",
       "      <td>2003-10-07</td>\n",
       "      <td>86.0</td>\n",
       "      <td>79.0</td>\n",
       "      <td>25.780899</td>\n",
       "      <td>-80.186239</td>\n",
       "    </tr>\n",
       "    <tr>\n",
       "      <th>18317</th>\n",
       "      <td>1610612748</td>\n",
       "      <td>1610612755</td>\n",
       "      <td>0</td>\n",
       "      <td>0</td>\n",
       "      <td>2003</td>\n",
       "      <td>2003-10-28</td>\n",
       "      <td>89.0</td>\n",
       "      <td>74.0</td>\n",
       "      <td>39.901234</td>\n",
       "      <td>-75.170907</td>\n",
       "    </tr>\n",
       "    <tr>\n",
       "      <th>18307</th>\n",
       "      <td>1610612748</td>\n",
       "      <td>1610612738</td>\n",
       "      <td>0</td>\n",
       "      <td>0</td>\n",
       "      <td>2003</td>\n",
       "      <td>2003-10-29</td>\n",
       "      <td>98.0</td>\n",
       "      <td>75.0</td>\n",
       "      <td>42.366107</td>\n",
       "      <td>-71.062645</td>\n",
       "    </tr>\n",
       "    <tr>\n",
       "      <th>18295</th>\n",
       "      <td>1610612748</td>\n",
       "      <td>1610612765</td>\n",
       "      <td>1</td>\n",
       "      <td>0</td>\n",
       "      <td>2003</td>\n",
       "      <td>2003-10-31</td>\n",
       "      <td>81.0</td>\n",
       "      <td>93.0</td>\n",
       "      <td>25.780899</td>\n",
       "      <td>-80.186239</td>\n",
       "    </tr>\n",
       "    <tr>\n",
       "      <th>18274</th>\n",
       "      <td>1610612748</td>\n",
       "      <td>1610612742</td>\n",
       "      <td>0</td>\n",
       "      <td>0</td>\n",
       "      <td>2003</td>\n",
       "      <td>2003-11-03</td>\n",
       "      <td>103.0</td>\n",
       "      <td>93.0</td>\n",
       "      <td>32.789894</td>\n",
       "      <td>-96.809259</td>\n",
       "    </tr>\n",
       "    <tr>\n",
       "      <th>...</th>\n",
       "      <td>...</td>\n",
       "      <td>...</td>\n",
       "      <td>...</td>\n",
       "      <td>...</td>\n",
       "      <td>...</td>\n",
       "      <td>...</td>\n",
       "      <td>...</td>\n",
       "      <td>...</td>\n",
       "      <td>...</td>\n",
       "      <td>...</td>\n",
       "    </tr>\n",
       "    <tr>\n",
       "      <th>17084</th>\n",
       "      <td>1610612748</td>\n",
       "      <td>1610612754</td>\n",
       "      <td>0</td>\n",
       "      <td>0</td>\n",
       "      <td>2003</td>\n",
       "      <td>2004-05-08</td>\n",
       "      <td>91.0</td>\n",
       "      <td>80.0</td>\n",
       "      <td>39.763812</td>\n",
       "      <td>-86.156052</td>\n",
       "    </tr>\n",
       "    <tr>\n",
       "      <th>17080</th>\n",
       "      <td>1610612748</td>\n",
       "      <td>1610612754</td>\n",
       "      <td>1</td>\n",
       "      <td>1</td>\n",
       "      <td>2003</td>\n",
       "      <td>2004-05-10</td>\n",
       "      <td>94.0</td>\n",
       "      <td>87.0</td>\n",
       "      <td>25.780899</td>\n",
       "      <td>-80.186239</td>\n",
       "    </tr>\n",
       "    <tr>\n",
       "      <th>17076</th>\n",
       "      <td>1610612748</td>\n",
       "      <td>1610612754</td>\n",
       "      <td>1</td>\n",
       "      <td>1</td>\n",
       "      <td>2003</td>\n",
       "      <td>2004-05-12</td>\n",
       "      <td>100.0</td>\n",
       "      <td>88.0</td>\n",
       "      <td>25.780899</td>\n",
       "      <td>-80.186239</td>\n",
       "    </tr>\n",
       "    <tr>\n",
       "      <th>17071</th>\n",
       "      <td>1610612748</td>\n",
       "      <td>1610612754</td>\n",
       "      <td>0</td>\n",
       "      <td>0</td>\n",
       "      <td>2003</td>\n",
       "      <td>2004-05-15</td>\n",
       "      <td>94.0</td>\n",
       "      <td>83.0</td>\n",
       "      <td>39.763812</td>\n",
       "      <td>-86.156052</td>\n",
       "    </tr>\n",
       "    <tr>\n",
       "      <th>17068</th>\n",
       "      <td>1610612748</td>\n",
       "      <td>1610612754</td>\n",
       "      <td>1</td>\n",
       "      <td>0</td>\n",
       "      <td>2003</td>\n",
       "      <td>2004-05-18</td>\n",
       "      <td>70.0</td>\n",
       "      <td>73.0</td>\n",
       "      <td>25.780899</td>\n",
       "      <td>-80.186239</td>\n",
       "    </tr>\n",
       "  </tbody>\n",
       "</table>\n",
       "<p>96 rows × 10 columns</p>\n",
       "</div>"
      ],
      "text/plain": [
       "             team   adversary  home  team_wins  season        date  pts_home  \\\n",
       "18330  1610612748  1610612755     1          1    2003  2003-10-07      86.0   \n",
       "18317  1610612748  1610612755     0          0    2003  2003-10-28      89.0   \n",
       "18307  1610612748  1610612738     0          0    2003  2003-10-29      98.0   \n",
       "18295  1610612748  1610612765     1          0    2003  2003-10-31      81.0   \n",
       "18274  1610612748  1610612742     0          0    2003  2003-11-03     103.0   \n",
       "...           ...         ...   ...        ...     ...         ...       ...   \n",
       "17084  1610612748  1610612754     0          0    2003  2004-05-08      91.0   \n",
       "17080  1610612748  1610612754     1          1    2003  2004-05-10      94.0   \n",
       "17076  1610612748  1610612754     1          1    2003  2004-05-12     100.0   \n",
       "17071  1610612748  1610612754     0          0    2003  2004-05-15      94.0   \n",
       "17068  1610612748  1610612754     1          0    2003  2004-05-18      70.0   \n",
       "\n",
       "       pts_away  game_loc_lat  game_loc_long  \n",
       "18330      79.0     25.780899     -80.186239  \n",
       "18317      74.0     39.901234     -75.170907  \n",
       "18307      75.0     42.366107     -71.062645  \n",
       "18295      93.0     25.780899     -80.186239  \n",
       "18274      93.0     32.789894     -96.809259  \n",
       "...         ...           ...            ...  \n",
       "17084      80.0     39.763812     -86.156052  \n",
       "17080      87.0     25.780899     -80.186239  \n",
       "17076      88.0     25.780899     -80.186239  \n",
       "17071      83.0     39.763812     -86.156052  \n",
       "17068      73.0     25.780899     -80.186239  \n",
       "\n",
       "[96 rows x 10 columns]"
      ]
     },
     "execution_count": 71,
     "metadata": {},
     "output_type": "execute_result"
    }
   ],
   "source": [
    "sea"
   ]
  },
  {
   "cell_type": "code",
   "execution_count": null,
   "metadata": {},
   "outputs": [],
   "source": []
  }
 ],
 "metadata": {
  "interpreter": {
   "hash": "aff34f349fe362d0ccd61c963dfc7372fbbd0491017f9d8505bf89b8315fc3c1"
  },
  "kernelspec": {
   "display_name": "Python 3 (ipykernel)",
   "language": "python",
   "name": "python3"
  },
  "language_info": {
   "codemirror_mode": {
    "name": "ipython",
    "version": 3
   },
   "file_extension": ".py",
   "mimetype": "text/x-python",
   "name": "python",
   "nbconvert_exporter": "python",
   "pygments_lexer": "ipython3",
   "version": "3.9.7"
  }
 },
 "nbformat": 4,
 "nbformat_minor": 2
}
