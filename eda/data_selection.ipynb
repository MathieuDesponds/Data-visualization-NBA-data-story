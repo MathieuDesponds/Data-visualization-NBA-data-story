{
 "cells": [
  {
   "cell_type": "code",
   "execution_count": 3,
   "metadata": {},
   "outputs": [
    {
     "name": "stdout",
     "output_type": "stream",
     "text": [
      "['.gitattributes', 'games.csv', 'games_details.csv', 'players.csv', 'preprocessed', 'ranking.csv', 'teams.csv']\n"
     ]
    },
    {
     "name": "stderr",
     "output_type": "stream",
     "text": [
      "C:\\Users\\antom\\miniconda3\\lib\\site-packages\\IPython\\core\\interactiveshell.py:3418: DtypeWarning: Columns (7) have mixed types.Specify dtype option on import or set low_memory=False.\n",
      "  exec(code_obj, self.user_global_ns, self.user_ns)\n"
     ]
    }
   ],
   "source": [
    "import pandas as pd\n",
    "import seaborn as sns\n",
    "import plotly.express as px\n",
    "import matplotlib.pyplot as plt\n",
    "import os\n",
    "\n",
    "print(os.listdir(\"../data\"))\n",
    "PREC_PATH = \"../data/preprocessed/{}.csv\"\n",
    "PATH = \"../data/{}.csv\"\n",
    "\n",
    "games = pd.read_csv(PREC_PATH.format(\"games\"))\n",
    "details = pd.read_csv(PREC_PATH.format(\"details\"))\n",
    "players = pd.read_csv(PATH.format(\"players\"))\n",
    "ranking = pd.read_csv(PREC_PATH.format(\"rankings\"))\n",
    "teams = pd.read_csv(PATH.format(\"teams\"))"
   ]
  },
  {
   "cell_type": "code",
   "execution_count": 13,
   "metadata": {},
   "outputs": [
    {
     "name": "stderr",
     "output_type": "stream",
     "text": [
      "C:\\Users\\antom\\miniconda3\\lib\\site-packages\\pandas\\core\\reshape\\merge.py:1204: UserWarning: You are merging on int and float columns where the float values are not equal to their int representation\n",
      "  warnings.warn(\n"
     ]
    }
   ],
   "source": [
    "player_selection = details.groupby(\"player_name\").mean()[[\"player_id\", \"pts\"]].reset_index()\\\n",
    "    .merge(players, right_on=\"PLAYER_ID\", left_on=\"player_id\")\\\n",
    "    .sort_values(\"pts\", ascending=False)\\\n",
    "    .drop_duplicates(\"player_name\")\\\n",
    "    .head(100)\\\n",
    "    .merge(teams[[\"TEAM_ID\", \"ABBREVIATION\"]], on=\"TEAM_ID\")\\\n",
    "    [[\"player_name\", \"player_id\", \"pts\"]]\n"
   ]
  },
  {
   "cell_type": "code",
   "execution_count": 16,
   "metadata": {},
   "outputs": [],
   "source": [
    "player_selection.to_csv(\"../website/data/player_selection.csv\")"
   ]
  },
  {
   "cell_type": "code",
   "execution_count": 15,
   "metadata": {},
   "outputs": [
    {
     "data": {
      "text/plain": [
       "['.idea',\n",
       " 'datavis-project-2022-lebron-jenkins',\n",
       " 'dataviz-exercise-02',\n",
       " 'dataviz-exercise-03',\n",
       " 'DataVizExercise01',\n",
       " 'idea.txt',\n",
       " 'intro.html']"
      ]
     },
     "execution_count": 15,
     "metadata": {},
     "output_type": "execute_result"
    }
   ],
   "source": [
    "os.listdir(\"../..\")"
   ]
  },
  {
   "cell_type": "code",
   "execution_count": null,
   "metadata": {},
   "outputs": [],
   "source": []
  }
 ],
 "metadata": {
  "interpreter": {
   "hash": "aff34f349fe362d0ccd61c963dfc7372fbbd0491017f9d8505bf89b8315fc3c1"
  },
  "kernelspec": {
   "display_name": "Python 3.8.5 ('base')",
   "language": "python",
   "name": "python3"
  },
  "language_info": {
   "codemirror_mode": {
    "name": "ipython",
    "version": 3
   },
   "file_extension": ".py",
   "mimetype": "text/x-python",
   "name": "python",
   "nbconvert_exporter": "python",
   "pygments_lexer": "ipython3",
   "version": "3.8.5"
  },
  "orig_nbformat": 4
 },
 "nbformat": 4,
 "nbformat_minor": 2
}
