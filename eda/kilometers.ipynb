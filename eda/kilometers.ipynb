{
 "cells": [
  {
   "cell_type": "code",
   "execution_count": 1,
   "metadata": {},
   "outputs": [],
   "source": [
    "import numpy as np\n",
    "import pandas as pd"
   ]
  },
  {
   "cell_type": "code",
   "execution_count": 15,
   "metadata": {},
   "outputs": [
    {
     "data": {
      "text/html": [
       "<div>\n",
       "<style scoped>\n",
       "    .dataframe tbody tr th:only-of-type {\n",
       "        vertical-align: middle;\n",
       "    }\n",
       "\n",
       "    .dataframe tbody tr th {\n",
       "        vertical-align: top;\n",
       "    }\n",
       "\n",
       "    .dataframe thead th {\n",
       "        text-align: right;\n",
       "    }\n",
       "</style>\n",
       "<table border=\"1\" class=\"dataframe\">\n",
       "  <thead>\n",
       "    <tr style=\"text-align: right;\">\n",
       "      <th></th>\n",
       "      <th>Unnamed: 0</th>\n",
       "      <th>index</th>\n",
       "      <th>team</th>\n",
       "      <th>adversary</th>\n",
       "      <th>home</th>\n",
       "      <th>team_wins</th>\n",
       "      <th>season</th>\n",
       "      <th>date</th>\n",
       "      <th>pts_home</th>\n",
       "      <th>pts_away</th>\n",
       "      <th>team_id</th>\n",
       "      <th>standingsdate</th>\n",
       "      <th>g</th>\n",
       "      <th>w</th>\n",
       "      <th>w_pct</th>\n",
       "      <th>dist_for_this_match</th>\n",
       "      <th>game_loc_lat</th>\n",
       "      <th>game_loc_long</th>\n",
       "    </tr>\n",
       "  </thead>\n",
       "  <tbody>\n",
       "    <tr>\n",
       "      <th>0</th>\n",
       "      <td>0</td>\n",
       "      <td>18320</td>\n",
       "      <td>1610612737</td>\n",
       "      <td>1610612739</td>\n",
       "      <td>1</td>\n",
       "      <td>0</td>\n",
       "      <td>2003</td>\n",
       "      <td>2003-10-08</td>\n",
       "      <td>80.0</td>\n",
       "      <td>83.0</td>\n",
       "      <td>1610612737</td>\n",
       "      <td>2003-10-08</td>\n",
       "      <td>0.0</td>\n",
       "      <td>0.0</td>\n",
       "      <td>0.00</td>\n",
       "      <td>683.690386</td>\n",
       "      <td>33.757251</td>\n",
       "      <td>-84.396200</td>\n",
       "    </tr>\n",
       "    <tr>\n",
       "      <th>1</th>\n",
       "      <td>1</td>\n",
       "      <td>44012</td>\n",
       "      <td>1610612737</td>\n",
       "      <td>1610612740</td>\n",
       "      <td>0</td>\n",
       "      <td>0</td>\n",
       "      <td>2003</td>\n",
       "      <td>2003-10-29</td>\n",
       "      <td>88.0</td>\n",
       "      <td>83.0</td>\n",
       "      <td>1610612737</td>\n",
       "      <td>2003-10-29</td>\n",
       "      <td>1.0</td>\n",
       "      <td>0.0</td>\n",
       "      <td>0.00</td>\n",
       "      <td>1344.581782</td>\n",
       "      <td>29.950485</td>\n",
       "      <td>-90.080726</td>\n",
       "    </tr>\n",
       "    <tr>\n",
       "      <th>2</th>\n",
       "      <td>2</td>\n",
       "      <td>43993</td>\n",
       "      <td>1610612737</td>\n",
       "      <td>1610612741</td>\n",
       "      <td>0</td>\n",
       "      <td>0</td>\n",
       "      <td>2003</td>\n",
       "      <td>2003-10-31</td>\n",
       "      <td>100.0</td>\n",
       "      <td>94.0</td>\n",
       "      <td>1610612737</td>\n",
       "      <td>2003-10-31</td>\n",
       "      <td>2.0</td>\n",
       "      <td>0.0</td>\n",
       "      <td>0.00</td>\n",
       "      <td>948.252786</td>\n",
       "      <td>41.881969</td>\n",
       "      <td>-87.672846</td>\n",
       "    </tr>\n",
       "    <tr>\n",
       "      <th>3</th>\n",
       "      <td>3</td>\n",
       "      <td>18284</td>\n",
       "      <td>1610612737</td>\n",
       "      <td>1610612754</td>\n",
       "      <td>1</td>\n",
       "      <td>0</td>\n",
       "      <td>2003</td>\n",
       "      <td>2003-11-01</td>\n",
       "      <td>99.0</td>\n",
       "      <td>103.0</td>\n",
       "      <td>1610612737</td>\n",
       "      <td>2003-11-01</td>\n",
       "      <td>3.0</td>\n",
       "      <td>0.0</td>\n",
       "      <td>0.00</td>\n",
       "      <td>0.000000</td>\n",
       "      <td>33.757251</td>\n",
       "      <td>-84.396200</td>\n",
       "    </tr>\n",
       "    <tr>\n",
       "      <th>4</th>\n",
       "      <td>4</td>\n",
       "      <td>18273</td>\n",
       "      <td>1610612737</td>\n",
       "      <td>1610612740</td>\n",
       "      <td>1</td>\n",
       "      <td>1</td>\n",
       "      <td>2003</td>\n",
       "      <td>2003-11-03</td>\n",
       "      <td>90.0</td>\n",
       "      <td>80.0</td>\n",
       "      <td>1610612737</td>\n",
       "      <td>2003-11-03</td>\n",
       "      <td>4.0</td>\n",
       "      <td>1.0</td>\n",
       "      <td>0.25</td>\n",
       "      <td>3434.201564</td>\n",
       "      <td>33.757251</td>\n",
       "      <td>-84.396200</td>\n",
       "    </tr>\n",
       "  </tbody>\n",
       "</table>\n",
       "</div>"
      ],
      "text/plain": [
       "   Unnamed: 0  index        team   adversary  home  team_wins  season  \\\n",
       "0           0  18320  1610612737  1610612739     1          0    2003   \n",
       "1           1  44012  1610612737  1610612740     0          0    2003   \n",
       "2           2  43993  1610612737  1610612741     0          0    2003   \n",
       "3           3  18284  1610612737  1610612754     1          0    2003   \n",
       "4           4  18273  1610612737  1610612740     1          1    2003   \n",
       "\n",
       "         date  pts_home  pts_away     team_id standingsdate    g    w  w_pct  \\\n",
       "0  2003-10-08      80.0      83.0  1610612737    2003-10-08  0.0  0.0   0.00   \n",
       "1  2003-10-29      88.0      83.0  1610612737    2003-10-29  1.0  0.0   0.00   \n",
       "2  2003-10-31     100.0      94.0  1610612737    2003-10-31  2.0  0.0   0.00   \n",
       "3  2003-11-01      99.0     103.0  1610612737    2003-11-01  3.0  0.0   0.00   \n",
       "4  2003-11-03      90.0      80.0  1610612737    2003-11-03  4.0  1.0   0.25   \n",
       "\n",
       "   dist_for_this_match  game_loc_lat  game_loc_long  \n",
       "0           683.690386     33.757251     -84.396200  \n",
       "1          1344.581782     29.950485     -90.080726  \n",
       "2           948.252786     41.881969     -87.672846  \n",
       "3             0.000000     33.757251     -84.396200  \n",
       "4          3434.201564     33.757251     -84.396200  "
      ]
     },
     "execution_count": 15,
     "metadata": {},
     "output_type": "execute_result"
    }
   ],
   "source": [
    "df = pd.read_csv(\"../data_web/seasons.csv\")\n",
    "df.head()"
   ]
  },
  {
   "cell_type": "code",
   "execution_count": 22,
   "metadata": {},
   "outputs": [],
   "source": [
    "x = pd.DataFrame()\n",
    "a = False\n",
    "\n",
    "df[\"cum_dist\"] = df.groupby([\"team\", \"season\"])[\"dist_for_this_match\"].cumsum()\n"
   ]
  },
  {
   "cell_type": "code",
   "execution_count": 25,
   "metadata": {},
   "outputs": [
    {
     "data": {
      "text/plain": [
       "[<matplotlib.lines.Line2D at 0x7f07d3a4f430>]"
      ]
     },
     "execution_count": 25,
     "metadata": {},
     "output_type": "execute_result"
    },
    {
     "data": {
      "image/png": "[encoded data removed]",
      "text/plain": [
       "<Figure size 432x288 with 1 Axes>"
      ]
     },
     "metadata": {
      "needs_background": "light"
     },
     "output_type": "display_data"
    }
   ],
   "source": [
    "import matplotlib.pyplot as plt\n",
    "\n",
    "plt.plot(df.query(\"team == 1610612737 & season == 2003\")[\"dist_for_this_match\"].cumsum())\n",
    "plt.plot(df.query(\"team == 1610612737 & season == 2003\")[\"cum_dist\"])"
   ]
  },
  {
   "cell_type": "code",
   "execution_count": 26,
   "metadata": {},
   "outputs": [],
   "source": [
    "df.to_csv(\"../data_web/seasons.csv\")"
   ]
  },
  {
   "cell_type": "code",
   "execution_count": null,
   "metadata": {},
   "outputs": [],
   "source": []
  }
 ],
 "metadata": {
  "interpreter": {
   "hash": "916dbcbb3f70747c44a77c7bcd40155683ae19c65e1c03b4aa3499c5328201f1"
  },
  "kernelspec": {
   "display_name": "Python 3.8.10 64-bit",
   "language": "python",
   "name": "python3"
  },
  "language_info": {
   "codemirror_mode": {
    "name": "ipython",
    "version": 3
   },
   "file_extension": ".py",
   "mimetype": "text/x-python",
   "name": "python",
   "nbconvert_exporter": "python",
   "pygments_lexer": "ipython3",
   "version": "3.8.10"
  },
  "orig_nbformat": 4
 },
 "nbformat": 4,
 "nbformat_minor": 2
}
